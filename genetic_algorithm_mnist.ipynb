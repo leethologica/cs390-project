{
  "nbformat": 4,
  "nbformat_minor": 0,
  "metadata": {
    "colab": {
      "name": "genetic-algorithm-mnist",
      "provenance": [],
      "authorship_tag": "ABX9TyN0IYur6Rgem4VhQEMKA+gh",
      "include_colab_link": true
    },
    "kernelspec": {
      "name": "python3",
      "display_name": "Python 3"
    },
    "accelerator": "GPU"
  },
  "cells": [
    {
      "cell_type": "markdown",
      "metadata": {
        "id": "view-in-github",
        "colab_type": "text"
      },
      "source": [
        "<a href=\"https://colab.research.google.com/github/michaeldlee23/cs390-project/blob/genetic-algorithm-tests/genetic_algorithm_mnist.ipynb\" target=\"_parent\"><img src=\"https://colab.research.google.com/assets/colab-badge.svg\" alt=\"Open In Colab\"/></a>"
      ]
    },
    {
      "cell_type": "code",
      "metadata": {
        "id": "dd39e5bm5Y-c",
        "outputId": "4ea92368-3ffd-4736-ee4c-e5fd4eaf7faa",
        "colab": {
          "base_uri": "https://localhost:8080/"
        }
      },
      "source": [
        "# Load the Drive helper and mount\n",
        "from google.colab import drive\n",
        "drive.mount('/content/drive')"
      ],
      "execution_count": null,
      "outputs": [
        {
          "output_type": "stream",
          "text": [
            "Mounted at /content/drive\n"
          ],
          "name": "stdout"
        }
      ]
    },
    {
      "cell_type": "markdown",
      "metadata": {
        "id": "8g1Sv1ZW76Me"
      },
      "source": [
        "## Import Statements"
      ]
    },
    {
      "cell_type": "code",
      "metadata": {
        "id": "VHzPrqm878tp"
      },
      "source": [
        "import os, random, time, imageio\n",
        "import numpy as np\n",
        "import tensorflow as tf\n",
        "from tensorflow import keras\n",
        "from tensorflow.keras.models import Sequential, Model\n",
        "from tensorflow.keras.layers import Input, Dense, Flatten\n",
        "from tensorflow.keras.layers import Dropout, BatchNormalization\n",
        "from tensorflow.keras.layers import Conv2D\n",
        "from tensorflow.keras.utils import to_categorical\n",
        "from tensorflow.keras.optimizers import Adam \n",
        "from PIL import Image"
      ],
      "execution_count": 32,
      "outputs": []
    },
    {
      "cell_type": "markdown",
      "metadata": {
        "id": "8Hmchc499N9n"
      },
      "source": [
        "## Constants and Configuration"
      ]
    },
    {
      "cell_type": "code",
      "metadata": {
        "id": "ZsX1H0Xu9Pv-"
      },
      "source": [
        "random.seed(1337)\n",
        "tf.random.set_seed(1337)\n",
        "\n",
        "IH, IW, IZ = 28, 28, 1\n",
        "IMAGE_SIZE = IH * IW * IZ\n",
        "NUM_CLASSES = 10\n",
        "\n",
        "NUM_GENERATIONS = 50\n",
        "POPULATION_SIZE = 20\n",
        "SELECTION_SIZE = 5\n",
        "MUTATION_RATE = 0.1\n",
        "\n",
        "currentPopulation = list()\n",
        "fitness = list()"
      ],
      "execution_count": 45,
      "outputs": []
    },
    {
      "cell_type": "markdown",
      "metadata": {
        "id": "Y5Lu8DV689Xw"
      },
      "source": [
        "## Genetic Algorithm"
      ]
    },
    {
      "cell_type": "code",
      "metadata": {
        "id": "NJjtKcZq9AhO"
      },
      "source": [
        "# def mutate(individual):\n",
        "#   print('Mutating individual...')\n",
        "#   for i in range(len(individual.layers)):\n",
        "#     rows, cols = individual.layers[i].get_weights()[0].shape\n",
        "#     for r in range(rows):\n",
        "#       for c in range(cols):\n",
        "#         if (random.random() < MUTATION_RATE):\n",
        "#           individual.layers[i].get_weights()[0][r][c] *= random.uniform(-0.5, 0.5)\n",
        "#     for j in range(individual.layers[i].get_weights()[1].shape[0]):\n",
        "#       if (random.random() < MUTATION_RATE):\n",
        "#         individual.layers[i].get_weights()[1][j] *= random.uniform(-0.5, 0.5)\n",
        "        \n",
        "#   return individual\n",
        "\n",
        "\n",
        "def crossover(parents):\n",
        "  newPopulation = list()\n",
        "\n",
        "  # Parents get to survive to next generation\n",
        "  newPopulation += parents\n",
        "\n",
        "  # Performs uniform crossover for selected parents\n",
        "  for i in range(SELECTION_SIZE, POPULATION_SIZE):\n",
        "    # Select parents for new individual\n",
        "    parentA, parentB = random.sample(parents, 2)\n",
        "\n",
        "    # Construct new individual\n",
        "    # Note that for this network, weights are [n x m] matrix\n",
        "    # biases are list of size m\n",
        "    individual = buildModel()\n",
        "    for j in range(len(parentA.layers)):\n",
        "      weights = np.zeros(parentA.layers[j].get_weights()[0].shape)\n",
        "      weightsA = parentA.layers[j].get_weights()[0]\n",
        "      weightsB = parentB.layers[j].get_weights()[0]\n",
        "      for r in range(weights.shape[0]):\n",
        "        for c in range(weights.shape[1]):\n",
        "          weights[r][c] = (weightsA[r][c] if random.random() < 0.5 else weightsB[r][c])\n",
        "          # Add random mutations\n",
        "          if (random.random() < MUTATION_RATE):\n",
        "            weights[r][c] *= random.uniform(-1.5, 1.5)\n",
        "      \n",
        "      biases = np.zeros(parentA.layers[j].get_weights()[1].shape)\n",
        "      biasesA = parentA.layers[j].get_weights()[1]\n",
        "      biasesB = parentB.layers[j].get_weights()[1]\n",
        "      for k in range(biases.shape[0]):\n",
        "        biases[k] = (biasesA[k] if random.random() < 0.5 else biasesB[k])\n",
        "        # Add random mutations\n",
        "        if (random.random() < MUTATION_RATE):\n",
        "          biases[k] *= random.uniform(-1.5, 1.5)\n",
        "      \n",
        "      individual.layers[j].set_weights([weights, biases])\n",
        "    newPopulation.append(individual)\n",
        "    # Throw in possible mutations to genes\n",
        "    # newPopulation.append(mutate(individual))\n",
        "  \n",
        "  return newPopulation\n",
        "\n",
        "\n",
        "def evolve(population, losses):\n",
        "  # Order the population in order of fitness\n",
        "  sortedIndexes = sorted(range(len(losses)), key=lambda x: losses[x])\n",
        "  sortedPopulation = [population[i] for i in sortedIndexes]\n",
        "\n",
        "  newPopulation = crossover(sortedPopulation[:SELECTION_SIZE])\n",
        "  return newPopulation\n",
        "\n"
      ],
      "execution_count": 52,
      "outputs": []
    },
    {
      "cell_type": "markdown",
      "metadata": {
        "id": "iIBVZCUG9COT"
      },
      "source": [
        "## Pipeline Functions"
      ]
    },
    {
      "cell_type": "code",
      "metadata": {
        "id": "Ua_BqByK9Hj9"
      },
      "source": [
        "def getRawData():\n",
        "  (xTrain, yTrain), (xTest, yTest) = tf.keras.datasets.mnist.load_data()\n",
        "  return ((xTrain, yTrain), (xTest, yTest))\n",
        "\n",
        "\n",
        "def preprocessData(raw):\n",
        "  ((xTrain, yTrain), (xTest, yTest)) = raw\n",
        "  xTrain, xTest = xTrain / 255.0, xTest / 255.0\n",
        "  xTrainP = xTrain.reshape((np.shape(xTrain)[0], -1))\n",
        "  xTestP = xTest.reshape((np.shape(xTest)[0], -1))\n",
        "  yTrainP = to_categorical(yTrain, NUM_CLASSES)\n",
        "  yTestP = to_categorical(yTest, NUM_CLASSES)\n",
        "  return ((xTrainP, yTrainP), (xTestP, yTestP))\n",
        "\n",
        "\n",
        "def buildModel():\n",
        "  model = Sequential()\n",
        "\n",
        "  model.add(Dense(IMAGE_SIZE, input_shape=(IMAGE_SIZE, )))\n",
        "  model.add(Dense(64, activation='relu'))\n",
        "  model.add(Dense(32, activation='relu'))\n",
        "  model.add(Dense(NUM_CLASSES, activation='softmax'))\n",
        "\n",
        "  model.compile(optimizer='adam', loss='categorical_crossentropy', metrics=['accuracy'])\n",
        "  return model\n",
        "\n",
        "\n",
        "def predict(input, individual):\n",
        "  prediction = individual.predict(input, 1)\n",
        "  oneHot = np.zeros_like(prediction)\n",
        "  oneHot[np.arange(len(prediction)), prediction.argmax(1)] = 1\n",
        "  return oneHot\n",
        "\n",
        "\n",
        "def train(population, data):\n",
        "  ((xTrain, yTrain), (xTest, yTest)) = data\n",
        "  losses = list()\n",
        "  for individual in population:\n",
        "    history = individual.fit(x=xTrain, y=yTrain,\n",
        "                             validation_split=0.1,\n",
        "                             epochs=1,\n",
        "                             shuffle=True)\n",
        "    losses.append(history.history['loss'][-1])\n",
        "\n",
        "  return population, losses\n",
        "\n",
        "\n",
        "def getFittestIndividual(data):\n",
        "  global currentPopulation\n",
        "  # Clear previous runs\n",
        "  currentPopulation = list()\n",
        "  for i in range(POPULATION_SIZE):\n",
        "    currentPopulation.append(buildModel())\n",
        "\n",
        "  losses = None\n",
        "  for generation in range(NUM_GENERATIONS):\n",
        "    start = time.time()\n",
        "    print('----------GENERATION %s----------' % generation)\n",
        "    population, losses = train(currentPopulation, data)\n",
        "    # print(losses)\n",
        "\n",
        "    currentPopulation = evolve(population, losses)\n",
        "    end = time.time()\n",
        "    print('Generation produced in %ds' % (end - start))\n",
        "    # Evaluate fittest individual of this generation, which is the first\n",
        "    # individual of the new generation\n",
        "    evalResults(data[1], predict(data[1][0], currentPopulation[0]))\n",
        "\n",
        "\n",
        "  # Order the last population in order of fitness\n",
        "  sortedIndexes = sorted(range(len(losses)), key=lambda x: losses[x])\n",
        "  sortedPopulation = [currentPopulation[i] for i in sortedIndexes]\n",
        "  return currentPopulation[0]\n",
        "\n",
        "\n",
        "def evalResults(data, predictions):\n",
        "  xTest, yTest = data\n",
        "  acc = 0\n",
        "  for i in range(predictions.shape[0]):\n",
        "    predictedValue = np.argmax(predictions[i])\n",
        "    actualValue = np.argmax(yTest[i])\n",
        "    if np.array_equal(predictions[i], yTest[i]):  acc += 1\n",
        "  accuracy = acc / predictions.shape[0]\n",
        "  print('Classifier Accuracy: %f%%' % (accuracy * 100))\n",
        "\n",
        "  "
      ],
      "execution_count": 53,
      "outputs": []
    },
    {
      "cell_type": "markdown",
      "metadata": {
        "id": "OdTgOJDu8XQ6"
      },
      "source": [
        "## Pipeline"
      ]
    },
    {
      "cell_type": "code",
      "metadata": {
        "id": "0Q35MuaC8SwP",
        "outputId": "6a8ee3b8-7b7a-407b-cd35-70d09dc4a142",
        "colab": {
          "base_uri": "https://localhost:8080/",
          "height": 1000
        }
      },
      "source": [
        "def main():\n",
        "  raw = getRawData()\n",
        "  data = preprocessData(raw)\n",
        "  model = getFittestIndividual(data)\n",
        "  predictions = predict(data[1][0], model)\n",
        "  evalResults(data[1], predictions)\n",
        "\n",
        "\n",
        "if __name__ == \"__main__\":\n",
        "  main()"
      ],
      "execution_count": 54,
      "outputs": [
        {
          "output_type": "stream",
          "text": [
            "----------GENERATION 0----------\n",
            "1688/1688 [==============================] - 5s 3ms/step - loss: 0.2734 - accuracy: 0.9176 - val_loss: 0.1532 - val_accuracy: 0.9557\n",
            "1688/1688 [==============================] - 5s 3ms/step - loss: 0.2757 - accuracy: 0.9174 - val_loss: 0.1476 - val_accuracy: 0.9558\n",
            "1688/1688 [==============================] - 5s 3ms/step - loss: 0.2731 - accuracy: 0.9183 - val_loss: 0.1664 - val_accuracy: 0.9493\n",
            "1688/1688 [==============================] - 5s 3ms/step - loss: 0.2681 - accuracy: 0.9211 - val_loss: 0.1434 - val_accuracy: 0.9563\n",
            "1688/1688 [==============================] - 5s 3ms/step - loss: 0.2763 - accuracy: 0.9183 - val_loss: 0.1327 - val_accuracy: 0.9612\n",
            "1688/1688 [==============================] - 5s 3ms/step - loss: 0.2754 - accuracy: 0.9173 - val_loss: 0.1497 - val_accuracy: 0.9558\n",
            "1688/1688 [==============================] - 5s 3ms/step - loss: 0.2709 - accuracy: 0.9173 - val_loss: 0.1495 - val_accuracy: 0.9557\n",
            "1688/1688 [==============================] - 5s 3ms/step - loss: 0.2709 - accuracy: 0.9178 - val_loss: 0.1540 - val_accuracy: 0.9540\n",
            "1688/1688 [==============================] - 5s 3ms/step - loss: 0.2681 - accuracy: 0.9204 - val_loss: 0.1347 - val_accuracy: 0.9588\n",
            "1688/1688 [==============================] - 5s 3ms/step - loss: 0.2692 - accuracy: 0.9189 - val_loss: 0.1519 - val_accuracy: 0.9552\n",
            "1688/1688 [==============================] - 5s 3ms/step - loss: 0.2681 - accuracy: 0.9199 - val_loss: 0.1380 - val_accuracy: 0.9582\n",
            "1688/1688 [==============================] - 5s 3ms/step - loss: 0.2652 - accuracy: 0.9213 - val_loss: 0.1635 - val_accuracy: 0.9527\n",
            "1688/1688 [==============================] - 5s 3ms/step - loss: 0.2585 - accuracy: 0.9227 - val_loss: 0.1509 - val_accuracy: 0.9557\n",
            "1688/1688 [==============================] - 5s 3ms/step - loss: 0.2708 - accuracy: 0.9185 - val_loss: 0.1377 - val_accuracy: 0.9608\n",
            "1688/1688 [==============================] - 5s 3ms/step - loss: 0.2759 - accuracy: 0.9178 - val_loss: 0.1569 - val_accuracy: 0.9565\n",
            "1688/1688 [==============================] - 5s 3ms/step - loss: 0.2691 - accuracy: 0.9198 - val_loss: 0.1387 - val_accuracy: 0.9603\n",
            "1688/1688 [==============================] - 5s 3ms/step - loss: 0.2715 - accuracy: 0.9176 - val_loss: 0.1349 - val_accuracy: 0.9592\n",
            "1688/1688 [==============================] - 5s 3ms/step - loss: 0.2747 - accuracy: 0.9173 - val_loss: 0.1545 - val_accuracy: 0.9573\n",
            "1688/1688 [==============================] - 5s 3ms/step - loss: 0.2710 - accuracy: 0.9180 - val_loss: 0.1439 - val_accuracy: 0.9550\n",
            "1688/1688 [==============================] - 5s 3ms/step - loss: 0.2717 - accuracy: 0.9183 - val_loss: 0.1460 - val_accuracy: 0.9552\n",
            "new population size: 20\n",
            "Generation produced in 116s\n",
            "Classifier Accuracy: 95.000000%\n",
            "----------GENERATION 1----------\n",
            "1688/1688 [==============================] - 5s 3ms/step - loss: 0.1506 - accuracy: 0.9562 - val_loss: 0.1428 - val_accuracy: 0.9615\n",
            "1688/1688 [==============================] - 5s 3ms/step - loss: 0.1608 - accuracy: 0.9524 - val_loss: 0.1503 - val_accuracy: 0.9585\n",
            "1688/1688 [==============================] - 5s 3ms/step - loss: 0.1511 - accuracy: 0.9540 - val_loss: 0.1315 - val_accuracy: 0.9645\n",
            "1688/1688 [==============================] - 5s 3ms/step - loss: 0.1525 - accuracy: 0.9542 - val_loss: 0.1196 - val_accuracy: 0.9662\n",
            "1688/1688 [==============================] - 5s 3ms/step - loss: 0.1591 - accuracy: 0.9527 - val_loss: 0.1240 - val_accuracy: 0.9618\n",
            "1688/1688 [==============================] - 5s 3ms/step - loss: 0.2333 - accuracy: 0.9299 - val_loss: 0.1469 - val_accuracy: 0.9565\n",
            "1688/1688 [==============================] - 5s 3ms/step - loss: 0.2301 - accuracy: 0.9315 - val_loss: 0.1300 - val_accuracy: 0.9637\n",
            "1688/1688 [==============================] - 5s 3ms/step - loss: 0.2372 - accuracy: 0.9292 - val_loss: 0.1380 - val_accuracy: 0.9593\n",
            "1688/1688 [==============================] - 5s 3ms/step - loss: 0.2301 - accuracy: 0.9314 - val_loss: 0.1452 - val_accuracy: 0.9583\n",
            "1688/1688 [==============================] - 5s 3ms/step - loss: 0.2302 - accuracy: 0.9307 - val_loss: 0.1397 - val_accuracy: 0.9617\n",
            "1688/1688 [==============================] - 5s 3ms/step - loss: 0.2359 - accuracy: 0.9310 - val_loss: 0.1640 - val_accuracy: 0.9492\n",
            "1688/1688 [==============================] - 5s 3ms/step - loss: 0.2236 - accuracy: 0.9331 - val_loss: 0.1645 - val_accuracy: 0.9522\n",
            "1688/1688 [==============================] - 5s 3ms/step - loss: 0.2374 - accuracy: 0.9283 - val_loss: 0.1409 - val_accuracy: 0.9572\n",
            "1688/1688 [==============================] - 5s 3ms/step - loss: 0.2266 - accuracy: 0.9332 - val_loss: 0.1463 - val_accuracy: 0.9560\n",
            "1688/1688 [==============================] - 5s 3ms/step - loss: 0.2350 - accuracy: 0.9312 - val_loss: 0.1471 - val_accuracy: 0.9577\n",
            "1688/1688 [==============================] - 5s 3ms/step - loss: 0.2323 - accuracy: 0.9311 - val_loss: 0.1281 - val_accuracy: 0.9623\n",
            "1688/1688 [==============================] - 5s 3ms/step - loss: 0.2271 - accuracy: 0.9328 - val_loss: 0.1328 - val_accuracy: 0.9588\n",
            "1688/1688 [==============================] - 5s 3ms/step - loss: 0.2345 - accuracy: 0.9311 - val_loss: 0.1282 - val_accuracy: 0.9632\n",
            "1688/1688 [==============================] - 5s 3ms/step - loss: 0.2319 - accuracy: 0.9322 - val_loss: 0.1418 - val_accuracy: 0.9555\n",
            "1688/1688 [==============================] - 5s 3ms/step - loss: 0.2302 - accuracy: 0.9309 - val_loss: 0.1300 - val_accuracy: 0.9608\n",
            "new population size: 20\n",
            "Generation produced in 113s\n",
            "Classifier Accuracy: 95.290000%\n",
            "----------GENERATION 2----------\n",
            "1688/1688 [==============================] - 5s 3ms/step - loss: 0.1215 - accuracy: 0.9640 - val_loss: 0.1295 - val_accuracy: 0.9657\n",
            "1688/1688 [==============================] - 5s 3ms/step - loss: 0.1224 - accuracy: 0.9624 - val_loss: 0.1255 - val_accuracy: 0.9667\n",
            "1688/1688 [==============================] - 5s 3ms/step - loss: 0.1275 - accuracy: 0.9616 - val_loss: 0.1410 - val_accuracy: 0.9607\n",
            "1688/1688 [==============================] - 5s 3ms/step - loss: 0.1305 - accuracy: 0.9608 - val_loss: 0.1239 - val_accuracy: 0.9648\n",
            "1688/1688 [==============================] - 5s 3ms/step - loss: 0.1327 - accuracy: 0.9597 - val_loss: 0.1404 - val_accuracy: 0.9628\n",
            "1688/1688 [==============================] - 5s 3ms/step - loss: 0.2193 - accuracy: 0.9341 - val_loss: 0.1369 - val_accuracy: 0.9620\n",
            "1688/1688 [==============================] - 5s 3ms/step - loss: 0.2126 - accuracy: 0.9368 - val_loss: 0.1683 - val_accuracy: 0.9515\n",
            "1688/1688 [==============================] - 5s 3ms/step - loss: 0.2255 - accuracy: 0.9339 - val_loss: 0.1460 - val_accuracy: 0.9568\n",
            "1688/1688 [==============================] - 5s 3ms/step - loss: 0.2272 - accuracy: 0.9331 - val_loss: 0.1344 - val_accuracy: 0.9592\n",
            "1688/1688 [==============================] - 5s 3ms/step - loss: 0.2134 - accuracy: 0.9371 - val_loss: 0.1376 - val_accuracy: 0.9572\n",
            "1688/1688 [==============================] - 5s 3ms/step - loss: 0.2130 - accuracy: 0.9363 - val_loss: 0.1453 - val_accuracy: 0.9583\n",
            "1688/1688 [==============================] - 5s 3ms/step - loss: 0.2154 - accuracy: 0.9359 - val_loss: 0.1211 - val_accuracy: 0.9640\n",
            "1688/1688 [==============================] - 5s 3ms/step - loss: 0.2164 - accuracy: 0.9359 - val_loss: 0.1607 - val_accuracy: 0.9523\n",
            "1688/1688 [==============================] - 5s 3ms/step - loss: 0.2181 - accuracy: 0.9346 - val_loss: 0.1428 - val_accuracy: 0.9573\n",
            "1688/1688 [==============================] - 5s 3ms/step - loss: 0.2325 - accuracy: 0.9305 - val_loss: 0.1561 - val_accuracy: 0.9522\n",
            "1688/1688 [==============================] - 5s 3ms/step - loss: 0.2211 - accuracy: 0.9345 - val_loss: 0.1369 - val_accuracy: 0.9595\n",
            "1688/1688 [==============================] - 5s 3ms/step - loss: 0.2197 - accuracy: 0.9348 - val_loss: 0.1504 - val_accuracy: 0.9572\n",
            "1688/1688 [==============================] - 5s 3ms/step - loss: 0.2221 - accuracy: 0.9346 - val_loss: 0.1330 - val_accuracy: 0.9587\n",
            "1688/1688 [==============================] - 5s 3ms/step - loss: 0.2255 - accuracy: 0.9328 - val_loss: 0.1596 - val_accuracy: 0.9557\n",
            "1688/1688 [==============================] - 5s 3ms/step - loss: 0.2126 - accuracy: 0.9367 - val_loss: 0.1207 - val_accuracy: 0.9632\n",
            "new population size: 20\n",
            "Generation produced in 114s\n",
            "Classifier Accuracy: 96.000000%\n",
            "----------GENERATION 3----------\n",
            "1688/1688 [==============================] - 5s 3ms/step - loss: 0.1101 - accuracy: 0.9662 - val_loss: 0.1171 - val_accuracy: 0.9685\n",
            "1688/1688 [==============================] - 5s 3ms/step - loss: 0.1048 - accuracy: 0.9683 - val_loss: 0.1348 - val_accuracy: 0.9638\n",
            "1688/1688 [==============================] - 5s 3ms/step - loss: 0.1076 - accuracy: 0.9675 - val_loss: 0.1307 - val_accuracy: 0.9673\n",
            "1688/1688 [==============================] - 5s 3ms/step - loss: 0.1113 - accuracy: 0.9661 - val_loss: 0.1262 - val_accuracy: 0.9660\n",
            "1688/1688 [==============================] - 5s 3ms/step - loss: 0.1097 - accuracy: 0.9670 - val_loss: 0.1959 - val_accuracy: 0.9485\n",
            "1688/1688 [==============================] - 5s 3ms/step - loss: 0.2219 - accuracy: 0.9345 - val_loss: 0.1467 - val_accuracy: 0.9595\n",
            "1688/1688 [==============================] - 5s 3ms/step - loss: 0.2143 - accuracy: 0.9357 - val_loss: 0.1253 - val_accuracy: 0.9605\n",
            "1688/1688 [==============================] - 5s 3ms/step - loss: 0.2157 - accuracy: 0.9351 - val_loss: 0.1251 - val_accuracy: 0.9632\n",
            "1688/1688 [==============================] - 5s 3ms/step - loss: 0.2135 - accuracy: 0.9357 - val_loss: 0.1517 - val_accuracy: 0.9577\n",
            "1688/1688 [==============================] - 5s 3ms/step - loss: 0.2220 - accuracy: 0.9342 - val_loss: 0.1497 - val_accuracy: 0.9587\n",
            "1688/1688 [==============================] - 5s 3ms/step - loss: 0.2062 - accuracy: 0.9376 - val_loss: 0.1339 - val_accuracy: 0.9610\n",
            "1688/1688 [==============================] - 5s 3ms/step - loss: 0.2093 - accuracy: 0.9379 - val_loss: 0.1560 - val_accuracy: 0.9545\n",
            "1688/1688 [==============================] - 5s 3ms/step - loss: 0.2119 - accuracy: 0.9366 - val_loss: 0.1346 - val_accuracy: 0.9625\n",
            "1688/1688 [==============================] - 5s 3ms/step - loss: 0.2062 - accuracy: 0.9370 - val_loss: 0.1269 - val_accuracy: 0.9610\n",
            "1688/1688 [==============================] - 5s 3ms/step - loss: 0.2129 - accuracy: 0.9360 - val_loss: 0.1303 - val_accuracy: 0.9635\n",
            "1688/1688 [==============================] - 5s 3ms/step - loss: 0.2227 - accuracy: 0.9332 - val_loss: 0.1543 - val_accuracy: 0.9582\n",
            "1688/1688 [==============================] - 5s 3ms/step - loss: 0.2153 - accuracy: 0.9351 - val_loss: 0.1462 - val_accuracy: 0.9570\n",
            "1688/1688 [==============================] - 5s 3ms/step - loss: 0.2074 - accuracy: 0.9371 - val_loss: 0.1266 - val_accuracy: 0.9625\n",
            "1688/1688 [==============================] - 5s 3ms/step - loss: 0.2091 - accuracy: 0.9375 - val_loss: 0.1334 - val_accuracy: 0.9628\n",
            "1688/1688 [==============================] - 5s 3ms/step - loss: 0.2183 - accuracy: 0.9341 - val_loss: 0.1391 - val_accuracy: 0.9603\n",
            "new population size: 20\n",
            "Generation produced in 112s\n",
            "Classifier Accuracy: 96.070000%\n",
            "----------GENERATION 4----------\n",
            "1688/1688 [==============================] - 5s 3ms/step - loss: 0.0970 - accuracy: 0.9705 - val_loss: 0.1145 - val_accuracy: 0.9702\n",
            "1688/1688 [==============================] - 5s 3ms/step - loss: 0.1007 - accuracy: 0.9697 - val_loss: 0.1238 - val_accuracy: 0.9697\n",
            "1688/1688 [==============================] - 5s 3ms/step - loss: 0.0989 - accuracy: 0.9690 - val_loss: 0.1587 - val_accuracy: 0.9578\n",
            "1688/1688 [==============================] - 5s 3ms/step - loss: 0.0965 - accuracy: 0.9701 - val_loss: 0.1251 - val_accuracy: 0.9683\n",
            "1688/1688 [==============================] - 5s 3ms/step - loss: 0.1044 - accuracy: 0.9679 - val_loss: 0.1705 - val_accuracy: 0.9580\n",
            "1688/1688 [==============================] - 5s 3ms/step - loss: 0.2044 - accuracy: 0.9393 - val_loss: 0.1191 - val_accuracy: 0.9678\n",
            "1688/1688 [==============================] - 5s 3ms/step - loss: 0.2086 - accuracy: 0.9373 - val_loss: 0.1337 - val_accuracy: 0.9623\n",
            "  21/1688 [..............................] - ETA: 4s - loss: 1.2558 - accuracy: 0.5417"
          ],
          "name": "stdout"
        },
        {
          "output_type": "error",
          "ename": "KeyboardInterrupt",
          "evalue": "ignored",
          "traceback": [
            "\u001b[0;31m---------------------------------------------------------------------------\u001b[0m",
            "\u001b[0;31mKeyboardInterrupt\u001b[0m                         Traceback (most recent call last)",
            "\u001b[0;32m<ipython-input-54-71798b8c249e>\u001b[0m in \u001b[0;36m<module>\u001b[0;34m()\u001b[0m\n\u001b[1;32m      8\u001b[0m \u001b[0;34m\u001b[0m\u001b[0m\n\u001b[1;32m      9\u001b[0m \u001b[0;32mif\u001b[0m \u001b[0m__name__\u001b[0m \u001b[0;34m==\u001b[0m \u001b[0;34m\"__main__\"\u001b[0m\u001b[0;34m:\u001b[0m\u001b[0;34m\u001b[0m\u001b[0;34m\u001b[0m\u001b[0m\n\u001b[0;32m---> 10\u001b[0;31m   \u001b[0mmain\u001b[0m\u001b[0;34m(\u001b[0m\u001b[0;34m)\u001b[0m\u001b[0;34m\u001b[0m\u001b[0;34m\u001b[0m\u001b[0m\n\u001b[0m",
            "\u001b[0;32m<ipython-input-54-71798b8c249e>\u001b[0m in \u001b[0;36mmain\u001b[0;34m()\u001b[0m\n\u001b[1;32m      2\u001b[0m   \u001b[0mraw\u001b[0m \u001b[0;34m=\u001b[0m \u001b[0mgetRawData\u001b[0m\u001b[0;34m(\u001b[0m\u001b[0;34m)\u001b[0m\u001b[0;34m\u001b[0m\u001b[0;34m\u001b[0m\u001b[0m\n\u001b[1;32m      3\u001b[0m   \u001b[0mdata\u001b[0m \u001b[0;34m=\u001b[0m \u001b[0mpreprocessData\u001b[0m\u001b[0;34m(\u001b[0m\u001b[0mraw\u001b[0m\u001b[0;34m)\u001b[0m\u001b[0;34m\u001b[0m\u001b[0;34m\u001b[0m\u001b[0m\n\u001b[0;32m----> 4\u001b[0;31m   \u001b[0mmodel\u001b[0m \u001b[0;34m=\u001b[0m \u001b[0mgetFittestIndividual\u001b[0m\u001b[0;34m(\u001b[0m\u001b[0mdata\u001b[0m\u001b[0;34m)\u001b[0m\u001b[0;34m\u001b[0m\u001b[0;34m\u001b[0m\u001b[0m\n\u001b[0m\u001b[1;32m      5\u001b[0m   \u001b[0mpredictions\u001b[0m \u001b[0;34m=\u001b[0m \u001b[0mpredict\u001b[0m\u001b[0;34m(\u001b[0m\u001b[0mdata\u001b[0m\u001b[0;34m[\u001b[0m\u001b[0;36m1\u001b[0m\u001b[0;34m]\u001b[0m\u001b[0;34m[\u001b[0m\u001b[0;36m0\u001b[0m\u001b[0;34m]\u001b[0m\u001b[0;34m,\u001b[0m \u001b[0mmodel\u001b[0m\u001b[0;34m)\u001b[0m\u001b[0;34m\u001b[0m\u001b[0;34m\u001b[0m\u001b[0m\n\u001b[1;32m      6\u001b[0m   \u001b[0mevalResults\u001b[0m\u001b[0;34m(\u001b[0m\u001b[0mdata\u001b[0m\u001b[0;34m[\u001b[0m\u001b[0;36m1\u001b[0m\u001b[0;34m]\u001b[0m\u001b[0;34m,\u001b[0m \u001b[0mpredictions\u001b[0m\u001b[0;34m)\u001b[0m\u001b[0;34m\u001b[0m\u001b[0;34m\u001b[0m\u001b[0m\n",
            "\u001b[0;32m<ipython-input-53-b3aed6d0265f>\u001b[0m in \u001b[0;36mgetFittestIndividual\u001b[0;34m(data)\u001b[0m\n\u001b[1;32m     58\u001b[0m     \u001b[0mstart\u001b[0m \u001b[0;34m=\u001b[0m \u001b[0mtime\u001b[0m\u001b[0;34m.\u001b[0m\u001b[0mtime\u001b[0m\u001b[0;34m(\u001b[0m\u001b[0;34m)\u001b[0m\u001b[0;34m\u001b[0m\u001b[0;34m\u001b[0m\u001b[0m\n\u001b[1;32m     59\u001b[0m     \u001b[0mprint\u001b[0m\u001b[0;34m(\u001b[0m\u001b[0;34m'----------GENERATION %s----------'\u001b[0m \u001b[0;34m%\u001b[0m \u001b[0mgeneration\u001b[0m\u001b[0;34m)\u001b[0m\u001b[0;34m\u001b[0m\u001b[0;34m\u001b[0m\u001b[0m\n\u001b[0;32m---> 60\u001b[0;31m     \u001b[0mpopulation\u001b[0m\u001b[0;34m,\u001b[0m \u001b[0mlosses\u001b[0m \u001b[0;34m=\u001b[0m \u001b[0mtrain\u001b[0m\u001b[0;34m(\u001b[0m\u001b[0mcurrentPopulation\u001b[0m\u001b[0;34m,\u001b[0m \u001b[0mdata\u001b[0m\u001b[0;34m)\u001b[0m\u001b[0;34m\u001b[0m\u001b[0;34m\u001b[0m\u001b[0m\n\u001b[0m\u001b[1;32m     61\u001b[0m     \u001b[0;31m# print(losses)\u001b[0m\u001b[0;34m\u001b[0m\u001b[0;34m\u001b[0m\u001b[0;34m\u001b[0m\u001b[0m\n\u001b[1;32m     62\u001b[0m \u001b[0;34m\u001b[0m\u001b[0m\n",
            "\u001b[0;32m<ipython-input-53-b3aed6d0265f>\u001b[0m in \u001b[0;36mtrain\u001b[0;34m(population, data)\u001b[0m\n\u001b[1;32m     41\u001b[0m                              \u001b[0mvalidation_split\u001b[0m\u001b[0;34m=\u001b[0m\u001b[0;36m0.1\u001b[0m\u001b[0;34m,\u001b[0m\u001b[0;34m\u001b[0m\u001b[0;34m\u001b[0m\u001b[0m\n\u001b[1;32m     42\u001b[0m                              \u001b[0mepochs\u001b[0m\u001b[0;34m=\u001b[0m\u001b[0;36m1\u001b[0m\u001b[0;34m,\u001b[0m\u001b[0;34m\u001b[0m\u001b[0;34m\u001b[0m\u001b[0m\n\u001b[0;32m---> 43\u001b[0;31m                              shuffle=True)\n\u001b[0m\u001b[1;32m     44\u001b[0m     \u001b[0mlosses\u001b[0m\u001b[0;34m.\u001b[0m\u001b[0mappend\u001b[0m\u001b[0;34m(\u001b[0m\u001b[0mhistory\u001b[0m\u001b[0;34m.\u001b[0m\u001b[0mhistory\u001b[0m\u001b[0;34m[\u001b[0m\u001b[0;34m'loss'\u001b[0m\u001b[0;34m]\u001b[0m\u001b[0;34m[\u001b[0m\u001b[0;34m-\u001b[0m\u001b[0;36m1\u001b[0m\u001b[0;34m]\u001b[0m\u001b[0;34m)\u001b[0m\u001b[0;34m\u001b[0m\u001b[0;34m\u001b[0m\u001b[0m\n\u001b[1;32m     45\u001b[0m \u001b[0;34m\u001b[0m\u001b[0m\n",
            "\u001b[0;32m/usr/local/lib/python3.6/dist-packages/tensorflow/python/keras/engine/training.py\u001b[0m in \u001b[0;36m_method_wrapper\u001b[0;34m(self, *args, **kwargs)\u001b[0m\n\u001b[1;32m    106\u001b[0m   \u001b[0;32mdef\u001b[0m \u001b[0m_method_wrapper\u001b[0m\u001b[0;34m(\u001b[0m\u001b[0mself\u001b[0m\u001b[0;34m,\u001b[0m \u001b[0;34m*\u001b[0m\u001b[0margs\u001b[0m\u001b[0;34m,\u001b[0m \u001b[0;34m**\u001b[0m\u001b[0mkwargs\u001b[0m\u001b[0;34m)\u001b[0m\u001b[0;34m:\u001b[0m\u001b[0;34m\u001b[0m\u001b[0;34m\u001b[0m\u001b[0m\n\u001b[1;32m    107\u001b[0m     \u001b[0;32mif\u001b[0m \u001b[0;32mnot\u001b[0m \u001b[0mself\u001b[0m\u001b[0;34m.\u001b[0m\u001b[0m_in_multi_worker_mode\u001b[0m\u001b[0;34m(\u001b[0m\u001b[0;34m)\u001b[0m\u001b[0;34m:\u001b[0m  \u001b[0;31m# pylint: disable=protected-access\u001b[0m\u001b[0;34m\u001b[0m\u001b[0;34m\u001b[0m\u001b[0m\n\u001b[0;32m--> 108\u001b[0;31m       \u001b[0;32mreturn\u001b[0m \u001b[0mmethod\u001b[0m\u001b[0;34m(\u001b[0m\u001b[0mself\u001b[0m\u001b[0;34m,\u001b[0m \u001b[0;34m*\u001b[0m\u001b[0margs\u001b[0m\u001b[0;34m,\u001b[0m \u001b[0;34m**\u001b[0m\u001b[0mkwargs\u001b[0m\u001b[0;34m)\u001b[0m\u001b[0;34m\u001b[0m\u001b[0;34m\u001b[0m\u001b[0m\n\u001b[0m\u001b[1;32m    109\u001b[0m \u001b[0;34m\u001b[0m\u001b[0m\n\u001b[1;32m    110\u001b[0m     \u001b[0;31m# Running inside `run_distribute_coordinator` already.\u001b[0m\u001b[0;34m\u001b[0m\u001b[0;34m\u001b[0m\u001b[0;34m\u001b[0m\u001b[0m\n",
            "\u001b[0;32m/usr/local/lib/python3.6/dist-packages/tensorflow/python/keras/engine/training.py\u001b[0m in \u001b[0;36mfit\u001b[0;34m(self, x, y, batch_size, epochs, verbose, callbacks, validation_split, validation_data, shuffle, class_weight, sample_weight, initial_epoch, steps_per_epoch, validation_steps, validation_batch_size, validation_freq, max_queue_size, workers, use_multiprocessing)\u001b[0m\n\u001b[1;32m   1101\u001b[0m               \u001b[0mlogs\u001b[0m \u001b[0;34m=\u001b[0m \u001b[0mtmp_logs\u001b[0m  \u001b[0;31m# No error, now safe to assign to logs.\u001b[0m\u001b[0;34m\u001b[0m\u001b[0;34m\u001b[0m\u001b[0m\n\u001b[1;32m   1102\u001b[0m               \u001b[0mend_step\u001b[0m \u001b[0;34m=\u001b[0m \u001b[0mstep\u001b[0m \u001b[0;34m+\u001b[0m \u001b[0mdata_handler\u001b[0m\u001b[0;34m.\u001b[0m\u001b[0mstep_increment\u001b[0m\u001b[0;34m\u001b[0m\u001b[0;34m\u001b[0m\u001b[0m\n\u001b[0;32m-> 1103\u001b[0;31m               \u001b[0mcallbacks\u001b[0m\u001b[0;34m.\u001b[0m\u001b[0mon_train_batch_end\u001b[0m\u001b[0;34m(\u001b[0m\u001b[0mend_step\u001b[0m\u001b[0;34m,\u001b[0m \u001b[0mlogs\u001b[0m\u001b[0;34m)\u001b[0m\u001b[0;34m\u001b[0m\u001b[0;34m\u001b[0m\u001b[0m\n\u001b[0m\u001b[1;32m   1104\u001b[0m         \u001b[0mepoch_logs\u001b[0m \u001b[0;34m=\u001b[0m \u001b[0mcopy\u001b[0m\u001b[0;34m.\u001b[0m\u001b[0mcopy\u001b[0m\u001b[0;34m(\u001b[0m\u001b[0mlogs\u001b[0m\u001b[0;34m)\u001b[0m\u001b[0;34m\u001b[0m\u001b[0;34m\u001b[0m\u001b[0m\n\u001b[1;32m   1105\u001b[0m \u001b[0;34m\u001b[0m\u001b[0m\n",
            "\u001b[0;32m/usr/local/lib/python3.6/dist-packages/tensorflow/python/keras/callbacks.py\u001b[0m in \u001b[0;36mon_train_batch_end\u001b[0;34m(self, batch, logs)\u001b[0m\n\u001b[1;32m    438\u001b[0m     \"\"\"\n\u001b[1;32m    439\u001b[0m     \u001b[0;32mif\u001b[0m \u001b[0mself\u001b[0m\u001b[0;34m.\u001b[0m\u001b[0m_should_call_train_batch_hooks\u001b[0m\u001b[0;34m:\u001b[0m\u001b[0;34m\u001b[0m\u001b[0;34m\u001b[0m\u001b[0m\n\u001b[0;32m--> 440\u001b[0;31m       \u001b[0mself\u001b[0m\u001b[0;34m.\u001b[0m\u001b[0m_call_batch_hook\u001b[0m\u001b[0;34m(\u001b[0m\u001b[0mModeKeys\u001b[0m\u001b[0;34m.\u001b[0m\u001b[0mTRAIN\u001b[0m\u001b[0;34m,\u001b[0m \u001b[0;34m'end'\u001b[0m\u001b[0;34m,\u001b[0m \u001b[0mbatch\u001b[0m\u001b[0;34m,\u001b[0m \u001b[0mlogs\u001b[0m\u001b[0;34m=\u001b[0m\u001b[0mlogs\u001b[0m\u001b[0;34m)\u001b[0m\u001b[0;34m\u001b[0m\u001b[0;34m\u001b[0m\u001b[0m\n\u001b[0m\u001b[1;32m    441\u001b[0m \u001b[0;34m\u001b[0m\u001b[0m\n\u001b[1;32m    442\u001b[0m   \u001b[0;32mdef\u001b[0m \u001b[0mon_test_batch_begin\u001b[0m\u001b[0;34m(\u001b[0m\u001b[0mself\u001b[0m\u001b[0;34m,\u001b[0m \u001b[0mbatch\u001b[0m\u001b[0;34m,\u001b[0m \u001b[0mlogs\u001b[0m\u001b[0;34m=\u001b[0m\u001b[0;32mNone\u001b[0m\u001b[0;34m)\u001b[0m\u001b[0;34m:\u001b[0m\u001b[0;34m\u001b[0m\u001b[0;34m\u001b[0m\u001b[0m\n",
            "\u001b[0;32m/usr/local/lib/python3.6/dist-packages/tensorflow/python/keras/callbacks.py\u001b[0m in \u001b[0;36m_call_batch_hook\u001b[0;34m(self, mode, hook, batch, logs)\u001b[0m\n\u001b[1;32m    287\u001b[0m       \u001b[0mself\u001b[0m\u001b[0;34m.\u001b[0m\u001b[0m_call_batch_begin_hook\u001b[0m\u001b[0;34m(\u001b[0m\u001b[0mmode\u001b[0m\u001b[0;34m,\u001b[0m \u001b[0mbatch\u001b[0m\u001b[0;34m,\u001b[0m \u001b[0mlogs\u001b[0m\u001b[0;34m)\u001b[0m\u001b[0;34m\u001b[0m\u001b[0;34m\u001b[0m\u001b[0m\n\u001b[1;32m    288\u001b[0m     \u001b[0;32melif\u001b[0m \u001b[0mhook\u001b[0m \u001b[0;34m==\u001b[0m \u001b[0;34m'end'\u001b[0m\u001b[0;34m:\u001b[0m\u001b[0;34m\u001b[0m\u001b[0;34m\u001b[0m\u001b[0m\n\u001b[0;32m--> 289\u001b[0;31m       \u001b[0mself\u001b[0m\u001b[0;34m.\u001b[0m\u001b[0m_call_batch_end_hook\u001b[0m\u001b[0;34m(\u001b[0m\u001b[0mmode\u001b[0m\u001b[0;34m,\u001b[0m \u001b[0mbatch\u001b[0m\u001b[0;34m,\u001b[0m \u001b[0mlogs\u001b[0m\u001b[0;34m)\u001b[0m\u001b[0;34m\u001b[0m\u001b[0;34m\u001b[0m\u001b[0m\n\u001b[0m\u001b[1;32m    290\u001b[0m     \u001b[0;32melse\u001b[0m\u001b[0;34m:\u001b[0m\u001b[0;34m\u001b[0m\u001b[0;34m\u001b[0m\u001b[0m\n\u001b[1;32m    291\u001b[0m       \u001b[0;32mraise\u001b[0m \u001b[0mValueError\u001b[0m\u001b[0;34m(\u001b[0m\u001b[0;34m'Unrecognized hook: {}'\u001b[0m\u001b[0;34m.\u001b[0m\u001b[0mformat\u001b[0m\u001b[0;34m(\u001b[0m\u001b[0mhook\u001b[0m\u001b[0;34m)\u001b[0m\u001b[0;34m)\u001b[0m\u001b[0;34m\u001b[0m\u001b[0;34m\u001b[0m\u001b[0m\n",
            "\u001b[0;32m/usr/local/lib/python3.6/dist-packages/tensorflow/python/keras/callbacks.py\u001b[0m in \u001b[0;36m_call_batch_end_hook\u001b[0;34m(self, mode, batch, logs)\u001b[0m\n\u001b[1;32m    307\u001b[0m       \u001b[0mbatch_time\u001b[0m \u001b[0;34m=\u001b[0m \u001b[0mtime\u001b[0m\u001b[0;34m.\u001b[0m\u001b[0mtime\u001b[0m\u001b[0;34m(\u001b[0m\u001b[0;34m)\u001b[0m \u001b[0;34m-\u001b[0m \u001b[0mself\u001b[0m\u001b[0;34m.\u001b[0m\u001b[0m_batch_start_time\u001b[0m\u001b[0;34m\u001b[0m\u001b[0;34m\u001b[0m\u001b[0m\n\u001b[1;32m    308\u001b[0m \u001b[0;34m\u001b[0m\u001b[0m\n\u001b[0;32m--> 309\u001b[0;31m     \u001b[0mself\u001b[0m\u001b[0;34m.\u001b[0m\u001b[0m_call_batch_hook_helper\u001b[0m\u001b[0;34m(\u001b[0m\u001b[0mhook_name\u001b[0m\u001b[0;34m,\u001b[0m \u001b[0mbatch\u001b[0m\u001b[0;34m,\u001b[0m \u001b[0mlogs\u001b[0m\u001b[0;34m)\u001b[0m\u001b[0;34m\u001b[0m\u001b[0;34m\u001b[0m\u001b[0m\n\u001b[0m\u001b[1;32m    310\u001b[0m \u001b[0;34m\u001b[0m\u001b[0m\n\u001b[1;32m    311\u001b[0m     \u001b[0;32mif\u001b[0m \u001b[0mself\u001b[0m\u001b[0;34m.\u001b[0m\u001b[0m_check_timing\u001b[0m\u001b[0;34m:\u001b[0m\u001b[0;34m\u001b[0m\u001b[0;34m\u001b[0m\u001b[0m\n",
            "\u001b[0;32m/usr/local/lib/python3.6/dist-packages/tensorflow/python/keras/callbacks.py\u001b[0m in \u001b[0;36m_call_batch_hook_helper\u001b[0;34m(self, hook_name, batch, logs)\u001b[0m\n\u001b[1;32m    340\u001b[0m       \u001b[0mhook\u001b[0m \u001b[0;34m=\u001b[0m \u001b[0mgetattr\u001b[0m\u001b[0;34m(\u001b[0m\u001b[0mcallback\u001b[0m\u001b[0;34m,\u001b[0m \u001b[0mhook_name\u001b[0m\u001b[0;34m)\u001b[0m\u001b[0;34m\u001b[0m\u001b[0;34m\u001b[0m\u001b[0m\n\u001b[1;32m    341\u001b[0m       \u001b[0;32mif\u001b[0m \u001b[0mgetattr\u001b[0m\u001b[0;34m(\u001b[0m\u001b[0mcallback\u001b[0m\u001b[0;34m,\u001b[0m \u001b[0;34m'_supports_tf_logs'\u001b[0m\u001b[0;34m,\u001b[0m \u001b[0;32mFalse\u001b[0m\u001b[0;34m)\u001b[0m\u001b[0;34m:\u001b[0m\u001b[0;34m\u001b[0m\u001b[0;34m\u001b[0m\u001b[0m\n\u001b[0;32m--> 342\u001b[0;31m         \u001b[0mhook\u001b[0m\u001b[0;34m(\u001b[0m\u001b[0mbatch\u001b[0m\u001b[0;34m,\u001b[0m \u001b[0mlogs\u001b[0m\u001b[0;34m)\u001b[0m\u001b[0;34m\u001b[0m\u001b[0;34m\u001b[0m\u001b[0m\n\u001b[0m\u001b[1;32m    343\u001b[0m       \u001b[0;32melse\u001b[0m\u001b[0;34m:\u001b[0m\u001b[0;34m\u001b[0m\u001b[0;34m\u001b[0m\u001b[0m\n\u001b[1;32m    344\u001b[0m         \u001b[0;32mif\u001b[0m \u001b[0mnumpy_logs\u001b[0m \u001b[0;32mis\u001b[0m \u001b[0;32mNone\u001b[0m\u001b[0;34m:\u001b[0m  \u001b[0;31m# Only convert once.\u001b[0m\u001b[0;34m\u001b[0m\u001b[0;34m\u001b[0m\u001b[0m\n",
            "\u001b[0;32m/usr/local/lib/python3.6/dist-packages/tensorflow/python/keras/callbacks.py\u001b[0m in \u001b[0;36mon_train_batch_end\u001b[0;34m(self, batch, logs)\u001b[0m\n\u001b[1;32m    959\u001b[0m \u001b[0;34m\u001b[0m\u001b[0m\n\u001b[1;32m    960\u001b[0m   \u001b[0;32mdef\u001b[0m \u001b[0mon_train_batch_end\u001b[0m\u001b[0;34m(\u001b[0m\u001b[0mself\u001b[0m\u001b[0;34m,\u001b[0m \u001b[0mbatch\u001b[0m\u001b[0;34m,\u001b[0m \u001b[0mlogs\u001b[0m\u001b[0;34m=\u001b[0m\u001b[0;32mNone\u001b[0m\u001b[0;34m)\u001b[0m\u001b[0;34m:\u001b[0m\u001b[0;34m\u001b[0m\u001b[0;34m\u001b[0m\u001b[0m\n\u001b[0;32m--> 961\u001b[0;31m     \u001b[0mself\u001b[0m\u001b[0;34m.\u001b[0m\u001b[0m_batch_update_progbar\u001b[0m\u001b[0;34m(\u001b[0m\u001b[0mbatch\u001b[0m\u001b[0;34m,\u001b[0m \u001b[0mlogs\u001b[0m\u001b[0;34m)\u001b[0m\u001b[0;34m\u001b[0m\u001b[0;34m\u001b[0m\u001b[0m\n\u001b[0m\u001b[1;32m    962\u001b[0m \u001b[0;34m\u001b[0m\u001b[0m\n\u001b[1;32m    963\u001b[0m   \u001b[0;32mdef\u001b[0m \u001b[0mon_test_batch_end\u001b[0m\u001b[0;34m(\u001b[0m\u001b[0mself\u001b[0m\u001b[0;34m,\u001b[0m \u001b[0mbatch\u001b[0m\u001b[0;34m,\u001b[0m \u001b[0mlogs\u001b[0m\u001b[0;34m=\u001b[0m\u001b[0;32mNone\u001b[0m\u001b[0;34m)\u001b[0m\u001b[0;34m:\u001b[0m\u001b[0;34m\u001b[0m\u001b[0;34m\u001b[0m\u001b[0m\n",
            "\u001b[0;32m/usr/local/lib/python3.6/dist-packages/tensorflow/python/keras/callbacks.py\u001b[0m in \u001b[0;36m_batch_update_progbar\u001b[0;34m(self, batch, logs)\u001b[0m\n\u001b[1;32m   1014\u001b[0m     \u001b[0;32mif\u001b[0m \u001b[0mself\u001b[0m\u001b[0;34m.\u001b[0m\u001b[0mverbose\u001b[0m \u001b[0;34m==\u001b[0m \u001b[0;36m1\u001b[0m\u001b[0;34m:\u001b[0m\u001b[0;34m\u001b[0m\u001b[0;34m\u001b[0m\u001b[0m\n\u001b[1;32m   1015\u001b[0m       \u001b[0;31m# Only block async when verbose = 1.\u001b[0m\u001b[0;34m\u001b[0m\u001b[0;34m\u001b[0m\u001b[0;34m\u001b[0m\u001b[0m\n\u001b[0;32m-> 1016\u001b[0;31m       \u001b[0mlogs\u001b[0m \u001b[0;34m=\u001b[0m \u001b[0mtf_utils\u001b[0m\u001b[0;34m.\u001b[0m\u001b[0mto_numpy_or_python_type\u001b[0m\u001b[0;34m(\u001b[0m\u001b[0mlogs\u001b[0m\u001b[0;34m)\u001b[0m\u001b[0;34m\u001b[0m\u001b[0;34m\u001b[0m\u001b[0m\n\u001b[0m\u001b[1;32m   1017\u001b[0m       \u001b[0mself\u001b[0m\u001b[0;34m.\u001b[0m\u001b[0mprogbar\u001b[0m\u001b[0;34m.\u001b[0m\u001b[0mupdate\u001b[0m\u001b[0;34m(\u001b[0m\u001b[0mself\u001b[0m\u001b[0;34m.\u001b[0m\u001b[0mseen\u001b[0m\u001b[0;34m,\u001b[0m \u001b[0mlist\u001b[0m\u001b[0;34m(\u001b[0m\u001b[0mlogs\u001b[0m\u001b[0;34m.\u001b[0m\u001b[0mitems\u001b[0m\u001b[0;34m(\u001b[0m\u001b[0;34m)\u001b[0m\u001b[0;34m)\u001b[0m\u001b[0;34m,\u001b[0m \u001b[0mfinalize\u001b[0m\u001b[0;34m=\u001b[0m\u001b[0;32mFalse\u001b[0m\u001b[0;34m)\u001b[0m\u001b[0;34m\u001b[0m\u001b[0;34m\u001b[0m\u001b[0m\n\u001b[1;32m   1018\u001b[0m \u001b[0;34m\u001b[0m\u001b[0m\n",
            "\u001b[0;32m/usr/local/lib/python3.6/dist-packages/tensorflow/python/keras/utils/tf_utils.py\u001b[0m in \u001b[0;36mto_numpy_or_python_type\u001b[0;34m(tensors)\u001b[0m\n\u001b[1;32m    535\u001b[0m     \u001b[0;32mreturn\u001b[0m \u001b[0mt\u001b[0m  \u001b[0;31m# Don't turn ragged or sparse tensors to NumPy.\u001b[0m\u001b[0;34m\u001b[0m\u001b[0;34m\u001b[0m\u001b[0m\n\u001b[1;32m    536\u001b[0m \u001b[0;34m\u001b[0m\u001b[0m\n\u001b[0;32m--> 537\u001b[0;31m   \u001b[0;32mreturn\u001b[0m \u001b[0mnest\u001b[0m\u001b[0;34m.\u001b[0m\u001b[0mmap_structure\u001b[0m\u001b[0;34m(\u001b[0m\u001b[0m_to_single_numpy_or_python_type\u001b[0m\u001b[0;34m,\u001b[0m \u001b[0mtensors\u001b[0m\u001b[0;34m)\u001b[0m\u001b[0;34m\u001b[0m\u001b[0;34m\u001b[0m\u001b[0m\n\u001b[0m\u001b[1;32m    538\u001b[0m \u001b[0;34m\u001b[0m\u001b[0m\n\u001b[1;32m    539\u001b[0m \u001b[0;34m\u001b[0m\u001b[0m\n",
            "\u001b[0;32m/usr/local/lib/python3.6/dist-packages/tensorflow/python/util/nest.py\u001b[0m in \u001b[0;36mmap_structure\u001b[0;34m(func, *structure, **kwargs)\u001b[0m\n\u001b[1;32m    633\u001b[0m \u001b[0;34m\u001b[0m\u001b[0m\n\u001b[1;32m    634\u001b[0m   return pack_sequence_as(\n\u001b[0;32m--> 635\u001b[0;31m       \u001b[0mstructure\u001b[0m\u001b[0;34m[\u001b[0m\u001b[0;36m0\u001b[0m\u001b[0;34m]\u001b[0m\u001b[0;34m,\u001b[0m \u001b[0;34m[\u001b[0m\u001b[0mfunc\u001b[0m\u001b[0;34m(\u001b[0m\u001b[0;34m*\u001b[0m\u001b[0mx\u001b[0m\u001b[0;34m)\u001b[0m \u001b[0;32mfor\u001b[0m \u001b[0mx\u001b[0m \u001b[0;32min\u001b[0m \u001b[0mentries\u001b[0m\u001b[0;34m]\u001b[0m\u001b[0;34m,\u001b[0m\u001b[0;34m\u001b[0m\u001b[0;34m\u001b[0m\u001b[0m\n\u001b[0m\u001b[1;32m    636\u001b[0m       expand_composites=expand_composites)\n\u001b[1;32m    637\u001b[0m \u001b[0;34m\u001b[0m\u001b[0m\n",
            "\u001b[0;32m/usr/local/lib/python3.6/dist-packages/tensorflow/python/util/nest.py\u001b[0m in \u001b[0;36m<listcomp>\u001b[0;34m(.0)\u001b[0m\n\u001b[1;32m    633\u001b[0m \u001b[0;34m\u001b[0m\u001b[0m\n\u001b[1;32m    634\u001b[0m   return pack_sequence_as(\n\u001b[0;32m--> 635\u001b[0;31m       \u001b[0mstructure\u001b[0m\u001b[0;34m[\u001b[0m\u001b[0;36m0\u001b[0m\u001b[0;34m]\u001b[0m\u001b[0;34m,\u001b[0m \u001b[0;34m[\u001b[0m\u001b[0mfunc\u001b[0m\u001b[0;34m(\u001b[0m\u001b[0;34m*\u001b[0m\u001b[0mx\u001b[0m\u001b[0;34m)\u001b[0m \u001b[0;32mfor\u001b[0m \u001b[0mx\u001b[0m \u001b[0;32min\u001b[0m \u001b[0mentries\u001b[0m\u001b[0;34m]\u001b[0m\u001b[0;34m,\u001b[0m\u001b[0;34m\u001b[0m\u001b[0;34m\u001b[0m\u001b[0m\n\u001b[0m\u001b[1;32m    636\u001b[0m       expand_composites=expand_composites)\n\u001b[1;32m    637\u001b[0m \u001b[0;34m\u001b[0m\u001b[0m\n",
            "\u001b[0;32m/usr/local/lib/python3.6/dist-packages/tensorflow/python/keras/utils/tf_utils.py\u001b[0m in \u001b[0;36m_to_single_numpy_or_python_type\u001b[0;34m(t)\u001b[0m\n\u001b[1;32m    531\u001b[0m   \u001b[0;32mdef\u001b[0m \u001b[0m_to_single_numpy_or_python_type\u001b[0m\u001b[0;34m(\u001b[0m\u001b[0mt\u001b[0m\u001b[0;34m)\u001b[0m\u001b[0;34m:\u001b[0m\u001b[0;34m\u001b[0m\u001b[0;34m\u001b[0m\u001b[0m\n\u001b[1;32m    532\u001b[0m     \u001b[0;32mif\u001b[0m \u001b[0misinstance\u001b[0m\u001b[0;34m(\u001b[0m\u001b[0mt\u001b[0m\u001b[0;34m,\u001b[0m \u001b[0mops\u001b[0m\u001b[0;34m.\u001b[0m\u001b[0mTensor\u001b[0m\u001b[0;34m)\u001b[0m\u001b[0;34m:\u001b[0m\u001b[0;34m\u001b[0m\u001b[0;34m\u001b[0m\u001b[0m\n\u001b[0;32m--> 533\u001b[0;31m       \u001b[0mx\u001b[0m \u001b[0;34m=\u001b[0m \u001b[0mt\u001b[0m\u001b[0;34m.\u001b[0m\u001b[0mnumpy\u001b[0m\u001b[0;34m(\u001b[0m\u001b[0;34m)\u001b[0m\u001b[0;34m\u001b[0m\u001b[0;34m\u001b[0m\u001b[0m\n\u001b[0m\u001b[1;32m    534\u001b[0m       \u001b[0;32mreturn\u001b[0m \u001b[0mx\u001b[0m\u001b[0;34m.\u001b[0m\u001b[0mitem\u001b[0m\u001b[0;34m(\u001b[0m\u001b[0;34m)\u001b[0m \u001b[0;32mif\u001b[0m \u001b[0mnp\u001b[0m\u001b[0;34m.\u001b[0m\u001b[0mndim\u001b[0m\u001b[0;34m(\u001b[0m\u001b[0mx\u001b[0m\u001b[0;34m)\u001b[0m \u001b[0;34m==\u001b[0m \u001b[0;36m0\u001b[0m \u001b[0;32melse\u001b[0m \u001b[0mx\u001b[0m\u001b[0;34m\u001b[0m\u001b[0;34m\u001b[0m\u001b[0m\n\u001b[1;32m    535\u001b[0m     \u001b[0;32mreturn\u001b[0m \u001b[0mt\u001b[0m  \u001b[0;31m# Don't turn ragged or sparse tensors to NumPy.\u001b[0m\u001b[0;34m\u001b[0m\u001b[0;34m\u001b[0m\u001b[0m\n",
            "\u001b[0;32m/usr/local/lib/python3.6/dist-packages/tensorflow/python/framework/ops.py\u001b[0m in \u001b[0;36mnumpy\u001b[0;34m(self)\u001b[0m\n\u001b[1;32m   1061\u001b[0m     \"\"\"\n\u001b[1;32m   1062\u001b[0m     \u001b[0;31m# TODO(slebedev): Consider avoiding a copy for non-CPU or remote tensors.\u001b[0m\u001b[0;34m\u001b[0m\u001b[0;34m\u001b[0m\u001b[0;34m\u001b[0m\u001b[0m\n\u001b[0;32m-> 1063\u001b[0;31m     \u001b[0mmaybe_arr\u001b[0m \u001b[0;34m=\u001b[0m \u001b[0mself\u001b[0m\u001b[0;34m.\u001b[0m\u001b[0m_numpy\u001b[0m\u001b[0;34m(\u001b[0m\u001b[0;34m)\u001b[0m  \u001b[0;31m# pylint: disable=protected-access\u001b[0m\u001b[0;34m\u001b[0m\u001b[0;34m\u001b[0m\u001b[0m\n\u001b[0m\u001b[1;32m   1064\u001b[0m     \u001b[0;32mreturn\u001b[0m \u001b[0mmaybe_arr\u001b[0m\u001b[0;34m.\u001b[0m\u001b[0mcopy\u001b[0m\u001b[0;34m(\u001b[0m\u001b[0;34m)\u001b[0m \u001b[0;32mif\u001b[0m \u001b[0misinstance\u001b[0m\u001b[0;34m(\u001b[0m\u001b[0mmaybe_arr\u001b[0m\u001b[0;34m,\u001b[0m \u001b[0mnp\u001b[0m\u001b[0;34m.\u001b[0m\u001b[0mndarray\u001b[0m\u001b[0;34m)\u001b[0m \u001b[0;32melse\u001b[0m \u001b[0mmaybe_arr\u001b[0m\u001b[0;34m\u001b[0m\u001b[0;34m\u001b[0m\u001b[0m\n\u001b[1;32m   1065\u001b[0m \u001b[0;34m\u001b[0m\u001b[0m\n",
            "\u001b[0;32m/usr/local/lib/python3.6/dist-packages/tensorflow/python/framework/ops.py\u001b[0m in \u001b[0;36m_numpy\u001b[0;34m(self)\u001b[0m\n\u001b[1;32m   1027\u001b[0m   \u001b[0;32mdef\u001b[0m \u001b[0m_numpy\u001b[0m\u001b[0;34m(\u001b[0m\u001b[0mself\u001b[0m\u001b[0;34m)\u001b[0m\u001b[0;34m:\u001b[0m\u001b[0;34m\u001b[0m\u001b[0;34m\u001b[0m\u001b[0m\n\u001b[1;32m   1028\u001b[0m     \u001b[0;32mtry\u001b[0m\u001b[0;34m:\u001b[0m\u001b[0;34m\u001b[0m\u001b[0;34m\u001b[0m\u001b[0m\n\u001b[0;32m-> 1029\u001b[0;31m       \u001b[0;32mreturn\u001b[0m \u001b[0mself\u001b[0m\u001b[0;34m.\u001b[0m\u001b[0m_numpy_internal\u001b[0m\u001b[0;34m(\u001b[0m\u001b[0;34m)\u001b[0m\u001b[0;34m\u001b[0m\u001b[0;34m\u001b[0m\u001b[0m\n\u001b[0m\u001b[1;32m   1030\u001b[0m     \u001b[0;32mexcept\u001b[0m \u001b[0mcore\u001b[0m\u001b[0;34m.\u001b[0m\u001b[0m_NotOkStatusException\u001b[0m \u001b[0;32mas\u001b[0m \u001b[0me\u001b[0m\u001b[0;34m:\u001b[0m  \u001b[0;31m# pylint: disable=protected-access\u001b[0m\u001b[0;34m\u001b[0m\u001b[0;34m\u001b[0m\u001b[0m\n\u001b[1;32m   1031\u001b[0m       \u001b[0msix\u001b[0m\u001b[0;34m.\u001b[0m\u001b[0mraise_from\u001b[0m\u001b[0;34m(\u001b[0m\u001b[0mcore\u001b[0m\u001b[0;34m.\u001b[0m\u001b[0m_status_to_exception\u001b[0m\u001b[0;34m(\u001b[0m\u001b[0me\u001b[0m\u001b[0;34m.\u001b[0m\u001b[0mcode\u001b[0m\u001b[0;34m,\u001b[0m \u001b[0me\u001b[0m\u001b[0;34m.\u001b[0m\u001b[0mmessage\u001b[0m\u001b[0;34m)\u001b[0m\u001b[0;34m,\u001b[0m \u001b[0;32mNone\u001b[0m\u001b[0;34m)\u001b[0m  \u001b[0;31m# pylint: disable=protected-access\u001b[0m\u001b[0;34m\u001b[0m\u001b[0;34m\u001b[0m\u001b[0m\n",
            "\u001b[0;31mKeyboardInterrupt\u001b[0m: "
          ]
        }
      ]
    },
    {
      "cell_type": "code",
      "metadata": {
        "id": "7M6RrEPFNLb3"
      },
      "source": [
        ""
      ],
      "execution_count": null,
      "outputs": []
    }
  ]
}