{
  "nbformat": 4,
  "nbformat_minor": 0,
  "metadata": {
    "colab": {
      "name": "genetic-algorithm-mnist",
      "provenance": [],
      "collapsed_sections": [],
      "authorship_tag": "ABX9TyPN8aAtyS91DLsJFIPwu0E5",
      "include_colab_link": true
    },
    "kernelspec": {
      "name": "python3",
      "display_name": "Python 3"
    },
    "accelerator": "GPU"
  },
  "cells": [
    {
      "cell_type": "markdown",
      "metadata": {
        "id": "view-in-github",
        "colab_type": "text"
      },
      "source": [
        "<a href=\"https://colab.research.google.com/github/michaeldlee23/cs390-project/blob/genetic-algorithm-tests/mnist-classifier/genetic_algorithm_mnist.ipynb\" target=\"_parent\"><img src=\"https://colab.research.google.com/assets/colab-badge.svg\" alt=\"Open In Colab\"/></a>"
      ]
    },
    {
      "cell_type": "code",
      "metadata": {
        "id": "dd39e5bm5Y-c",
        "outputId": "586caa2e-a589-427e-d26b-110eb49864b7",
        "colab": {
          "base_uri": "https://localhost:8080/"
        }
      },
      "source": [
        "# Load the Drive helper and mount\n",
        "from google.colab import drive\n",
        "drive.mount('/content/drive')"
      ],
      "execution_count": 16,
      "outputs": [
        {
          "output_type": "stream",
          "text": [
            "Drive already mounted at /content/drive; to attempt to forcibly remount, call drive.mount(\"/content/drive\", force_remount=True).\n"
          ],
          "name": "stdout"
        }
      ]
    },
    {
      "cell_type": "markdown",
      "metadata": {
        "id": "8g1Sv1ZW76Me"
      },
      "source": [
        "## Import Statements"
      ]
    },
    {
      "cell_type": "code",
      "metadata": {
        "id": "VHzPrqm878tp"
      },
      "source": [
        "import os, random, time, imageio\n",
        "import numpy as np\n",
        "import pandas as pd\n",
        "import tensorflow as tf\n",
        "from tensorflow import keras\n",
        "from tensorflow.keras.models import Sequential, Model\n",
        "from tensorflow.keras.layers import Input, Dense, Flatten\n",
        "from tensorflow.keras.layers import Dropout, BatchNormalization\n",
        "from tensorflow.keras.layers import Conv2D\n",
        "from tensorflow.keras.utils import to_categorical\n",
        "from tensorflow.keras.optimizers import Adam \n",
        "from PIL import Image\n",
        "import matplotlib.pyplot as plt\n",
        "\n",
        "plt.style.use('default')"
      ],
      "execution_count": 1,
      "outputs": []
    },
    {
      "cell_type": "markdown",
      "metadata": {
        "id": "8Hmchc499N9n"
      },
      "source": [
        "## Constants and Configuration"
      ]
    },
    {
      "cell_type": "code",
      "metadata": {
        "id": "ZsX1H0Xu9Pv-"
      },
      "source": [
        "random.seed(2187)\n",
        "tf.random.set_seed(2187)\n",
        "\n",
        "# Dataset details\n",
        "IH, IW, IZ = 28, 28, 1\n",
        "IMAGE_SIZE = IH * IW * IZ\n",
        "NUM_CLASSES = 10\n",
        "\n",
        "# Hyperparameters\n",
        "NUM_GENERATIONS = 10\n",
        "POPULATION_SIZE = 50\n",
        "SELECTION_SIZE = 5\n",
        "MUTATION_RATE = 0.1\n",
        "MUTATION_WEIGHT_RANGE = (-1, 1)\n",
        "MUTATION_BIAS_RANGE = (-0.1, 0.1)\n",
        "\n",
        "# Toggle to continue training\n",
        "CONTINUE_TRAINING = False\n",
        "# CONTINUE_TRAINING = True\n",
        "\n",
        "DRIVE_PREFIX = '/content/drive/My Drive/Colab Notebooks/genetic-algorithm-mnist/'"
      ],
      "execution_count": 2,
      "outputs": []
    },
    {
      "cell_type": "code",
      "metadata": {
        "id": "i6j8d_cR8E7W"
      },
      "source": [
        "# Global lists\n",
        "# Keep separate from hyperparameters so I don't accidentally reset them\n",
        "currentPopulation = list()\n",
        "\n",
        "savedMatingPool = list()  # Save the mating pool of the generation so we can continue\n",
        "                          # training without having to restart\n",
        "                          # Necessary because colab keeps crashing before all generations\n",
        "                          # can finish for some reason\n",
        "generationNum = 0\n",
        "\n",
        "# Logging\n",
        "# VERBOSE = True\n",
        "VERBOSE = False\n",
        "generationFitness = list()      # average fitness per generation\n",
        "topGenerationFitness = list()   # average fitness of top SELECTION_SIZE individuals\n",
        "                                # from each generation"
      ],
      "execution_count": 3,
      "outputs": []
    },
    {
      "cell_type": "markdown",
      "metadata": {
        "id": "Y5Lu8DV689Xw"
      },
      "source": [
        "## Genetic Algorithm"
      ]
    },
    {
      "cell_type": "code",
      "metadata": {
        "id": "NJjtKcZq9AhO"
      },
      "source": [
        "def evaluatePopulation(population, data):\n",
        "  ((xTrain, yTrain), (xTest, yTest)) = data\n",
        "  fitness = list()\n",
        "  for i in range(len(population)):\n",
        "    individual = population[i]\n",
        "    predictions = predict(xTrain, individual)\n",
        "    accuracy = evalResults(data[0], predictions)\n",
        "    fitness.append(accuracy)\n",
        "    if VERBOSE:\n",
        "      print('individual %2d accuracy: %f%%' % (i + 1, accuracy * 100))\n",
        "  return fitness\n",
        "\n",
        "\n",
        "def crossover(parents, method='uniform'):\n",
        "  print('Performing %s crossover...' % method)\n",
        "  newPopulation = list()\n",
        "\n",
        "  # Parents get to survive to next generation\n",
        "  newPopulation += parents\n",
        "  \n",
        "  for i in range(SELECTION_SIZE, POPULATION_SIZE):\n",
        "    # Select parents for new individual\n",
        "    parentA, parentB = random.sample(parents, 2)\n",
        "\n",
        "    # Construct new individual\n",
        "    # Note that for this network, weights are [n x m] matrix\n",
        "    # and biases are a list of size m\n",
        "    individual = buildModel()\n",
        "    for j in range(len(parentA.layers)):\n",
        "      parentWeights = (parentA.layers[j].get_weights()[0],\n",
        "                       parentB.layers[j].get_weights()[0])\n",
        "      parentBiases = (parentA.layers[j].get_weights()[1],\n",
        "                      parentB.layers[j].get_weights()[1])\n",
        "      if method.lower() == 'uniform':\n",
        "        weights, biases = uniformCrossover(parentWeights, parentBiases)\n",
        "      elif method.lower() == 'spc' or 'single' in method.lower():\n",
        "        weights, biases = singlePointCrossover(parentWeights, parentBiases)\n",
        "      else:\n",
        "        raise(ValueError('Unknown crossover method %s' % method))\n",
        "        return None\n",
        "      individual.layers[j].set_weights([weights, biases])\n",
        "    newPopulation.append(individual)\n",
        "  return newPopulation\n",
        "\n",
        "\n",
        "def uniformCrossover(parentWeights, parentBiases):\n",
        "  weights = np.zeros(parentWeights[0].shape)\n",
        "  for r in range(weights.shape[0]):\n",
        "    for c in range(weights.shape[1]):\n",
        "      weights[r][c] = (parentWeights[0][r][c] if random.random() < 0.5 else\n",
        "                       parentWeights[1][r][c])\n",
        "      # Add random mutations\n",
        "      if (random.random() < MUTATION_RATE):\n",
        "        weights[r][c] += random.uniform(*MUTATION_WEIGHT_RANGE)\n",
        "  biases = np.zeros(parentBiases[0].shape)\n",
        "  for k in range(biases.shape[0]):\n",
        "    biases[k] = (parentBiases[0][k] if random.random() < 0.5 else\n",
        "                 parentBiases[1][k])\n",
        "    # Add random mutations\n",
        "    if (random.random() < MUTATION_RATE):\n",
        "      biases[k] += random.uniform(*MUTATION_BIAS_RANGE)\n",
        "  return (weights, biases)\n",
        "\n",
        "\n",
        "def singlePointCrossover(parentWeights, parentBiases):\n",
        "  weights = np.zeros(parentWeights[0].shape)\n",
        "  weightPartition = random.randint(0, parentWeights[0].shape[0] * parentWeights[0].shape[1])\n",
        "  i = 0\n",
        "  for r in range(weights.shape[0]):\n",
        "    for c in range(weights.shape[1]):\n",
        "      if i < weightPartition:\n",
        "        weights[r][c] = parentWeights[0][r][c]\n",
        "      else:\n",
        "        weights[r][c] = parentWeights[1][r][c]\n",
        "      # Add random mutations\n",
        "      if (random.random() < MUTATION_RATE):\n",
        "        weights[r][c] += random.uniform(*MUTATION_WEIGHT_RANGE)\n",
        "      i += 1\n",
        "  biases = np.zeros(parentBiases[0].shape)\n",
        "  biasPartition = weightPartition // weights.shape[0]\n",
        "  for k in range(biases.shape[0]):\n",
        "    if k < biasPartition:\n",
        "      biases[k] = parentBiases[0][k]\n",
        "    else:\n",
        "      biases[k] = parentBiases[1][k]\n",
        "    # Add random mutations\n",
        "    if (random.random() < MUTATION_RATE):\n",
        "      biases[k] += random.uniform(*MUTATION_BIAS_RANGE)\n",
        "  return (weights, biases)\n",
        "\n",
        "\n",
        "def evolve(population, fitness):\n",
        "  global savedMatingPool\n",
        "  # Order the population in order of fitness\n",
        "  # Note that fitness is measured by accuracy, so we sort in descending order\n",
        "  sortedIndexes = sorted(range(len(fitness)), key=lambda x: -fitness[x])\n",
        "  sortedPopulation = [population[i] for i in sortedIndexes]\n",
        "\n",
        "  print('Selected individuals: %s' % [i + 1 for i in sortedIndexes[:SELECTION_SIZE]])\n",
        "  newPopulation = crossover(sortedPopulation[:SELECTION_SIZE],\n",
        "                            method='uniform')\n",
        "  savedMatingPool = sortedPopulation[:SELECTION_SIZE] # Save mating pool for future training\n",
        "  return newPopulation\n"
      ],
      "execution_count": 4,
      "outputs": []
    },
    {
      "cell_type": "markdown",
      "metadata": {
        "id": "iIBVZCUG9COT"
      },
      "source": [
        "## Pipeline Functions"
      ]
    },
    {
      "cell_type": "code",
      "metadata": {
        "id": "Ua_BqByK9Hj9"
      },
      "source": [
        "def clearOldData():\n",
        "  # Clear previous runs\n",
        "  global currentPopulation, generationFitness, topGenerationFitness, generationNum\n",
        "  currentPopulation = list()\n",
        "  generationFitness = list()\n",
        "  topGenerationFitness = list()\n",
        "  generationNum = 0\n",
        "\n",
        "\n",
        "def getRawData():\n",
        "  (xTrain, yTrain), (xTest, yTest) = tf.keras.datasets.mnist.load_data()\n",
        "  return ((xTrain, yTrain), (xTest, yTest))\n",
        "\n",
        "\n",
        "def preprocessData(raw):\n",
        "  ((xTrain, yTrain), (xTest, yTest)) = raw\n",
        "  xTrain, xTest = xTrain / 255.0, xTest / 255.0\n",
        "  xTrainP = xTrain.reshape((np.shape(xTrain)[0], -1))\n",
        "  xTestP = xTest.reshape((np.shape(xTest)[0], -1))\n",
        "  yTrainP = to_categorical(yTrain, NUM_CLASSES)\n",
        "  yTestP = to_categorical(yTest, NUM_CLASSES)\n",
        "  return ((xTrainP, yTrainP), (xTestP, yTestP))\n",
        "\n",
        "\n",
        "def buildModel():\n",
        "  model = Sequential()\n",
        "\n",
        "  model.add(Dense(IMAGE_SIZE, input_shape=(IMAGE_SIZE, )))\n",
        "  # model.add(Dense(64, activation='relu'))\n",
        "  model.add(Dense(32, activation='relu'))\n",
        "  model.add(Dense(NUM_CLASSES, activation='softmax'))\n",
        "\n",
        "  model.compile(optimizer='adam', loss='categorical_crossentropy', metrics=['accuracy'])\n",
        "  return model\n",
        "\n",
        "\n",
        "def predict(input, individual):\n",
        "  prediction = individual.predict(input, 0)\n",
        "  oneHot = np.zeros_like(prediction)\n",
        "  oneHot[np.arange(len(prediction)), prediction.argmax(1)] = 1\n",
        "  return oneHot\n",
        "\n",
        "\n",
        "def getFittestIndividual(data):\n",
        "  global currentPopulation, generationNum, savedMatingPool, CONTINUE_TRAINING\n",
        "  if CONTINUE_TRAINING == False:\n",
        "    for i in range(POPULATION_SIZE):\n",
        "      currentPopulation.append(buildModel())\n",
        "  else:\n",
        "    # Produce new generation using saved mating pool from previous run\n",
        "    # Fitness is just used to sort them, but these are already sorted\n",
        "    currentPopulation = evolve(savedMatingPool,\n",
        "                               np.arange(SELECTION_SIZE + 1)[SELECTION_SIZE:0:-1])\n",
        "\n",
        "  fitness = None\n",
        "  for generation in range(generationNum, generationNum + NUM_GENERATIONS):\n",
        "    start = time.time()\n",
        "    print('----------GENERATION %s----------' % (generation + 1))\n",
        "    fitness = evaluatePopulation(currentPopulation, data)\n",
        "\n",
        "    currentPopulation = evolve(currentPopulation, fitness)\n",
        "    end = time.time()\n",
        "    print('Generation produced in %ds' % (end - start))\n",
        "    logFitness(sorted(fitness, reverse=True))\n",
        "    generationNum += 1\n",
        "\n",
        "  # Order the last population in order of fitness\n",
        "  sortedIndexes = sorted(range(len(fitness)), key=lambda x: -fitness[x])\n",
        "  sortedPopulation = [currentPopulation[i] for i in sortedIndexes]\n",
        "  for i in range(SELECTION_SIZE):\n",
        "    savePath = DRIVE_PREFIX + 'saved-mating-pool/parent%s' % i\n",
        "    currentPopulation[i].save(savePath)\n",
        "  return currentPopulation[0]\n",
        "\n",
        "\n",
        "def evalResults(data, predictions):\n",
        "  _, output = data\n",
        "  acc = 0\n",
        "  for i in range(predictions.shape[0]):\n",
        "    predictedValue = np.argmax(predictions[i])\n",
        "    actualValue = np.argmax(output[i])\n",
        "    if np.array_equal(predictions[i], output[i]):  acc += 1\n",
        "  accuracy = acc / predictions.shape[0]\n",
        "  return accuracy\n",
        "  "
      ],
      "execution_count": 5,
      "outputs": []
    },
    {
      "cell_type": "markdown",
      "metadata": {
        "id": "Rk0LodSULTU1"
      },
      "source": [
        "## Logging Functions"
      ]
    },
    {
      "cell_type": "code",
      "metadata": {
        "id": "CT4OvaMHLU1h"
      },
      "source": [
        "def logFitness(fitness):\n",
        "  global generationFitness, topGenerationFitness\n",
        "  averageFitness = np.mean(fitness) * 100\n",
        "  averageTopFitness = np.mean(fitness[:SELECTION_SIZE]) * 100\n",
        "  generationFitness.append(averageFitness)\n",
        "  topGenerationFitness.append(averageTopFitness)\n",
        "  print('Average accuracy of generation: %f%%' % (np.mean(fitness) * 100))\n",
        "  print('     Average accuracy of top %2d: %f%%' % (SELECTION_SIZE, averageTopFitness))\n",
        "  # Save these arrays\n",
        "  with open(DRIVE_PREFIX + 'generationFitness.npy', 'wb') as f:\n",
        "    np.save(f, generationFitness)\n",
        "  with open(DRIVE_PREFIX + 'topGenerationFitness.npy', 'wb') as f:\n",
        "    np.save(f, topGenerationFitness)\n",
        "  \n",
        "\n",
        "def graphFitness():\n",
        "  global generationNum\n",
        "  df = pd.DataFrame({'generation': [i + 1 for i in range(generationNum)],\n",
        "                     'fitness': generationFitness,\n",
        "                     'top': topGenerationFitness})\n",
        "  OUTPUT_PATH = DRIVE_PREFIX + 'logs/learning-curve.png'\n",
        "  plt.figure(figsize=(10, 10))\n",
        "  plt.plot('generation', 'fitness', data=df, color='red',\n",
        "           label='Population')\n",
        "  plt.plot('generation', 'top', data=df, color='blue',\n",
        "           label='Top %s Individuals' % SELECTION_SIZE)\n",
        "  plt.grid()\n",
        "  plt.xlabel('Generation')\n",
        "  plt.ylabel('Average Accuracy')\n",
        "  plt.title('Average Accuracy Over Time')\n",
        "  plt.legend()\n",
        "  plt.savefig(OUTPUT_PATH)\n",
        "  print('Saved learning curve to %s' % OUTPUT_PATH)\n",
        "  plt.show()\n",
        "  "
      ],
      "execution_count": 6,
      "outputs": []
    },
    {
      "cell_type": "markdown",
      "metadata": {
        "id": "OdTgOJDu8XQ6"
      },
      "source": [
        "## Pipeline"
      ]
    },
    {
      "cell_type": "code",
      "metadata": {
        "id": "WPL_9o1zDZTK",
        "outputId": "d0834c26-e821-44ed-a365-e78474729018",
        "colab": {
          "base_uri": "https://localhost:8080/"
        }
      },
      "source": [
        "# Option to load saved mating pool\n",
        "def loadSavedData(modelsPath, fitPath, topFitPath):\n",
        "  global generationFitness, topGenerationFitness, savedMatingPool\n",
        "  savedModelPaths = [os.path.join(modelsPath, d) for d in os.listdir(modelsPath)]\n",
        "  savedMatingPool = [tf.keras.models.load_model(path) for path in savedModelPaths]\n",
        "\n",
        "  with open(fitPath, 'rb') as f:\n",
        "    generationFitness = list(np.load(f))\n",
        "  with open(topFitPath, 'rb') as f:\n",
        "    topGenerationFitness = list(np.load(f))\n",
        "\n",
        "CONTINUE_TRAINING = True\n",
        "loadSavedData(DRIVE_PREFIX + 'saved-mating-pool',\n",
        "              DRIVE_PREFIX + 'generationFitness.npy',\n",
        "              DRIVE_PREFIX + 'topGenerationFitness.npy')\n",
        "assert len(savedMatingPool) == SELECTION_SIZE\n",
        "assert len(generationFitness) == len(topGenerationFitness)\n",
        "generationNum = len(generationFitness)\n",
        "print('Picking up at generation: ', generationNum + 1)"
      ],
      "execution_count": 7,
      "outputs": [
        {
          "output_type": "stream",
          "text": [
            "Picking up at generation:  69\n"
          ],
          "name": "stdout"
        }
      ]
    },
    {
      "cell_type": "code",
      "metadata": {
        "id": "0Q35MuaC8SwP",
        "outputId": "6c545d84-0aee-4e24-c949-63727176859a",
        "colab": {
          "base_uri": "https://localhost:8080/",
          "height": 1000
        }
      },
      "source": [
        "def main():\n",
        "  global CONTINUE_TRAINING\n",
        "  start = time.time()\n",
        "  if CONTINUE_TRAINING == False:\n",
        "    clearOldData()\n",
        "  raw = getRawData()\n",
        "  data = preprocessData(raw)\n",
        "  model = getFittestIndividual(data)\n",
        "  predictions = predict(data[1][0], model)\n",
        "  accuracy = evalResults(data[1], predictions)\n",
        "  end = time.time()\n",
        "  print('Classifier Accuracy: %f%%' % (accuracy * 100))\n",
        "  print('Finished in %ds' % (end - start))\n",
        "  graphFitness()\n",
        "\n",
        "if __name__ == \"__main__\":\n",
        "  main()\n"
      ],
      "execution_count": 8,
      "outputs": [
        {
          "output_type": "stream",
          "text": [
            "Selected individuals: [1, 2, 3, 4, 5]\n",
            "Performing uniform crossover...\n",
            "----------GENERATION 69----------\n",
            "Selected individuals: [1, 2, 14, 37, 3]\n",
            "Performing uniform crossover...\n",
            "Generation produced in 125s\n",
            "Average accuracy of generation: 32.106833%\n",
            "     Average accuracy of top  5: 38.001333%\n",
            "----------GENERATION 70----------\n",
            "Selected individuals: [1, 41, 2, 3, 44]\n",
            "Performing uniform crossover...\n",
            "Generation produced in 122s\n",
            "Average accuracy of generation: 32.416467%\n",
            "     Average accuracy of top  5: 38.214667%\n",
            "----------GENERATION 71----------\n",
            "Selected individuals: [1, 2, 3, 4, 38]\n",
            "Performing uniform crossover...\n",
            "Generation produced in 122s\n",
            "Average accuracy of generation: 31.475300%\n",
            "     Average accuracy of top  5: 38.238333%\n",
            "----------GENERATION 72----------\n",
            "Selected individuals: [1, 2, 3, 4, 5]\n",
            "Performing uniform crossover...\n",
            "Generation produced in 123s\n",
            "Average accuracy of generation: 31.242833%\n",
            "     Average accuracy of top  5: 38.238333%\n",
            "----------GENERATION 73----------\n",
            "Selected individuals: [1, 2, 3, 4, 5]\n",
            "Performing uniform crossover...\n",
            "Generation produced in 123s\n",
            "Average accuracy of generation: 31.799100%\n",
            "     Average accuracy of top  5: 38.238333%\n",
            "----------GENERATION 74----------\n",
            "Selected individuals: [1, 7, 2, 3, 39]\n",
            "Performing uniform crossover...\n",
            "Generation produced in 121s\n",
            "Average accuracy of generation: 31.438900%\n",
            "     Average accuracy of top  5: 38.369000%\n",
            "----------GENERATION 75----------\n",
            "Selected individuals: [1, 2, 3, 4, 5]\n",
            "Performing uniform crossover...\n",
            "Generation produced in 116s\n",
            "Average accuracy of generation: 32.425467%\n",
            "     Average accuracy of top  5: 38.369000%\n",
            "----------GENERATION 76----------\n",
            "Selected individuals: [16, 43, 1, 2, 3]\n",
            "Performing uniform crossover...\n",
            "Generation produced in 115s\n",
            "Average accuracy of generation: 32.049667%\n",
            "     Average accuracy of top  5: 38.561333%\n",
            "----------GENERATION 77----------\n",
            "Selected individuals: [13, 23, 6, 1, 17]\n",
            "Performing uniform crossover...\n",
            "Generation produced in 117s\n",
            "Average accuracy of generation: 33.221000%\n",
            "     Average accuracy of top  5: 39.068667%\n",
            "----------GENERATION 78----------\n",
            "Selected individuals: [1, 2, 45, 3, 4]\n",
            "Performing uniform crossover...\n",
            "Generation produced in 115s\n",
            "Average accuracy of generation: 34.788067%\n",
            "     Average accuracy of top  5: 39.125333%\n",
            "WARNING:tensorflow:From /usr/local/lib/python3.6/dist-packages/tensorflow/python/training/tracking/tracking.py:111: Model.state_updates (from tensorflow.python.keras.engine.training) is deprecated and will be removed in a future version.\n",
            "Instructions for updating:\n",
            "This property should not be used in TensorFlow 2.0, as updates are applied automatically.\n",
            "WARNING:tensorflow:From /usr/local/lib/python3.6/dist-packages/tensorflow/python/training/tracking/tracking.py:111: Layer.updates (from tensorflow.python.keras.engine.base_layer) is deprecated and will be removed in a future version.\n",
            "Instructions for updating:\n",
            "This property should not be used in TensorFlow 2.0, as updates are applied automatically.\n",
            "INFO:tensorflow:Assets written to: /content/drive/My Drive/Colab Notebooks/genetic-algorithm-mnist/saved-mating-pool/parent0/assets\n",
            "INFO:tensorflow:Assets written to: /content/drive/My Drive/Colab Notebooks/genetic-algorithm-mnist/saved-mating-pool/parent1/assets\n",
            "INFO:tensorflow:Assets written to: /content/drive/My Drive/Colab Notebooks/genetic-algorithm-mnist/saved-mating-pool/parent2/assets\n",
            "INFO:tensorflow:Assets written to: /content/drive/My Drive/Colab Notebooks/genetic-algorithm-mnist/saved-mating-pool/parent3/assets\n",
            "INFO:tensorflow:Assets written to: /content/drive/My Drive/Colab Notebooks/genetic-algorithm-mnist/saved-mating-pool/parent4/assets\n",
            "Classifier Accuracy: 39.010000%\n",
            "Finished in 1232s\n",
            "Saved learning curve to /content/drive/My Drive/Colab Notebooks/genetic-algorithm-mnist/logs/learning-curve.png\n"
          ],
          "name": "stdout"
        },
        {
          "output_type": "display_data",
          "data": {
            "image/png": "[encoded data removed]",
            "text/plain": [
              "<Figure size 720x720 with 1 Axes>"
            ]
          },
          "metadata": {
            "tags": [],
            "needs_background": "light"
          }
        }
      ]
    },
    {
      "cell_type": "markdown",
      "metadata": {
        "id": "1RSJ9T54Yiz4"
      },
      "source": [
        "## Testing"
      ]
    },
    {
      "cell_type": "code",
      "metadata": {
        "id": "8p5IytgAdEUr",
        "outputId": "802931e1-0605-46fe-e927-3bb2e1633a16",
        "colab": {
          "base_uri": "https://localhost:8080/"
        }
      },
      "source": [
        "print(savedMatingPool)\n",
        "print(generationFitness)\n",
        "print(topGenerationFitness)\n",
        "print(generationNum)"
      ],
      "execution_count": 9,
      "outputs": [
        {
          "output_type": "stream",
          "text": [
            "[<tensorflow.python.keras.engine.sequential.Sequential object at 0x7fa7fea7be10>, <tensorflow.python.keras.engine.sequential.Sequential object at 0x7fa7fe98bf60>, <tensorflow.python.keras.engine.sequential.Sequential object at 0x7fa7ff640630>, <tensorflow.python.keras.engine.sequential.Sequential object at 0x7fa7feb53128>, <tensorflow.python.keras.engine.sequential.Sequential object at 0x7fa838209080>]\n",
            "[10.1242, 10.352999999999998, 10.893900000000002, 10.726266666666668, 10.731900000000001, 10.906366666666665, 11.821833333333332, 11.633066666666666, 11.789333333333332, 12.157566666666668, 12.812733333333334, 13.46983333333333, 15.1729, 15.963033333333332, 16.737599999999997, 17.15433333333333, 18.249266666666667, 18.363, 18.061866666666667, 18.921433333333333, 20.017799999999998, 20.227633333333333, 20.388100000000005, 20.227633333333333, 20.388100000000005, 20.078133333333337, 21.81386666666667, 21.7916, 23.578733333333332, 22.88843333333333, 24.025800000000004, 24.623, 23.590633333333333, 24.600633333333334, 25.149300000000004, 25.291233333333334, 26.279099999999993, 28.266933333333334, 27.30123333333333, 28.093433333333333, 28.531633333333335, 29.014366666666668, 29.487933333333334, 28.936633333333333, 29.264266666666668, 29.014366666666668, 29.487933333333334, 28.936633333333333, 29.264266666666668, 30.423533333333335, 29.933799999999998, 30.738633333333333, 30.7331, 30.792366666666666, 31.949500000000004, 32.00136666666667, 30.967033333333326, 31.53113333333333, 31.132199999999997, 32.132933333333334, 33.459466666666664, 34.45283333333333, 35.72463333333333, 35.42706666666667, 37.2088, 37.29683333333333, 37.24126666666667, 36.969699999999996, 32.106833333333334, 32.41646666666667, 31.475299999999994, 31.242833333333337, 31.799099999999996, 31.438900000000004, 32.425466666666665, 32.04966666666667, 33.221000000000004, 34.788066666666666]\n",
            "[14.728999999999997, 15.937666666666667, 16.614, 16.614, 17.338666666666665, 17.383000000000003, 18.382, 18.555333333333337, 18.917333333333332, 19.151333333333334, 19.928333333333335, 20.552, 21.961333333333336, 22.531, 22.934, 24.302333333333337, 25.017, 25.017, 25.397000000000002, 25.95033333333333, 26.82, 26.575999999999993, 27.240666666666673, 26.575999999999993, 27.240666666666673, 27.240666666666673, 27.737000000000002, 27.882333333333335, 28.793000000000003, 29.423000000000005, 29.713666666666672, 30.366666666666664, 30.41166666666667, 30.935666666666666, 31.57133333333334, 32.321666666666665, 32.626, 33.47333333333333, 33.838, 33.93933333333333, 34.26166666666667, 34.386, 34.49466666666667, 35.04066666666667, 35.17766666666667, 34.386, 34.49466666666667, 35.04066666666667, 35.17766666666667, 35.35466666666666, 35.636, 36.041000000000004, 36.277, 36.559, 36.62800000000001, 37.190666666666665, 37.26633333333333, 37.286, 37.394333333333336, 37.79833333333333, 39.458333333333336, 40.306333333333335, 41.06233333333333, 41.19500000000001, 41.359, 41.359, 41.53366666666667, 41.53366666666667, 38.001333333333335, 38.214666666666666, 38.23833333333333, 38.23833333333333, 38.23833333333333, 38.369, 38.369, 38.56133333333333, 39.068666666666665, 39.12533333333334]\n",
            "78\n"
          ],
          "name": "stdout"
        }
      ]
    },
    {
      "cell_type": "code",
      "metadata": {
        "id": "JFerE19rCm7v"
      },
      "source": [
        ""
      ],
      "execution_count": null,
      "outputs": []
    }
  ]
}